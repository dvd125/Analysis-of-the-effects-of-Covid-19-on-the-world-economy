{
 "cells": [
  {
   "cell_type": "markdown",
   "metadata": {},
   "source": [
    "## Pre-processing Dati Covid-19"
   ]
  },
  {
   "cell_type": "code",
   "execution_count": 1,
   "metadata": {},
   "outputs": [],
   "source": [
    "import pandas as pd\n",
    "covid = pd.pandas.read_csv(r'https://raw.githubusercontent.com/CSSEGISandData/COVID-19/master/csse_covid_19_data/csse_covid_19_time_series/time_series_covid19_confirmed_global.csv')\n",
    "#manipolazione del dataframe per poterlo trasformare in un df \"verticale\"\n",
    "dates = covid.columns[4:]\n",
    "covid19 = covid.melt(\n",
    "    id_vars=['Province/State', 'Country/Region', 'Lat', 'Long'], \n",
    "    value_vars=dates,\n",
    "    var_name='Date', \n",
    "    value_name='Confirmed'\n",
    ")\n",
    "covid19['Date'] = pd.to_datetime(covid19['Date'])\n",
    "C = pd.DataFrame(data=covid19)\n",
    "c = C.set_index('Country/Region')\n",
    "#filtraggio del dataframe tenendo solo i dati relativi degli stati di nostro interesse\n",
    "filtring_df = c.loc[['Argentina','Australia','France','Turkey','Saudi Arabia','Italy','India','US','Canada','Japan','Germany','Spain','China','Russia','Brazil','Korea, South','United Kingdom']]\n",
    "filtring =filtring_df.sort_index()\n",
    "filtring= filtring.reset_index()\n",
    "filtring = filtring.rename(columns={\"Province/State\":\"Province\"})\n",
    "filtring['Province'].fillna(0, inplace=True)\n",
    "#rimozione delle province di alcune nazioni aventi province al di fuori del mainland (vedasi UK o Francia)\n",
    "df = filtring.drop(filtring[(filtring['Country/Region'] == 'United Kingdom') & (filtring['Province'] != 0)].index)\n",
    "df_1=df.drop(df[(df['Country/Region'] == 'France') & (df['Province'] != 0)].index)\n",
    "#altre nazioni (es Cina, Australia) erano suddivise in province, abbiamo sommato i risultati sotto il nome della nazione di provenienza\n",
    "covid_19 =df_1.groupby(['Country/Region','Date'],as_index=False)['Confirmed'].sum()\n",
    "covid_19.rename(columns={'Country/Region':'Country'}, inplace=True)\n",
    "c19=covid_19.sort_values(by=['Date'],ascending=False)\n",
    "\n",
    "#import dei dati su mongo\n",
    "from pymongo import MongoClient\n",
    "import pymongo\n",
    "client=MongoClient()\n",
    "db=client.dataman\n",
    "covid = db.covid\n",
    "records_ = c19.to_dict(orient = 'records')\n",
    "result = db.covid.insert_many(records_ )"
   ]
  }
 ],
 "metadata": {
  "kernelspec": {
   "display_name": "Python 3",
   "language": "python",
   "name": "python3"
  },
  "language_info": {
   "codemirror_mode": {
    "name": "ipython",
    "version": 3
   },
   "file_extension": ".py",
   "mimetype": "text/x-python",
   "name": "python",
   "nbconvert_exporter": "python",
   "pygments_lexer": "ipython3",
   "version": "3.7.5"
  }
 },
 "nbformat": 4,
 "nbformat_minor": 2
}
