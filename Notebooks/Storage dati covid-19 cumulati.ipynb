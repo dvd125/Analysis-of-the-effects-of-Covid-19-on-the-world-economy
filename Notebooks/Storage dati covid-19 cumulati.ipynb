{
 "cells": [
  {
   "cell_type": "markdown",
   "metadata": {},
   "source": [
    "## Storage dati Covid-19 cumulati"
   ]
  },
  {
   "cell_type": "code",
   "execution_count": null,
   "metadata": {},
   "outputs": [],
   "source": [
    "#Acquisizione dati Covid-19 senza distinzioni per nazioni\n",
    "\n",
    "import pandas as pd\n",
    "covid = pd.pandas.read_csv(r'https://raw.githubusercontent.com/CSSEGISandData/COVID-19/master/csse_covid_19_data/csse_covid_19_time_series/time_series_covid19_confirmed_global.csv')\n",
    "dates = covid.columns[4:]\n",
    "covid19 = covid.melt(\n",
    "    id_vars=['Province/State', 'Country/Region', 'Lat', 'Long'], \n",
    "    value_vars=dates,\n",
    "    var_name='Date', \n",
    "    value_name='Confirmed'\n",
    ")\n",
    "covid19\n",
    "covid19['Date'] = pd.to_datetime(covid19['Date'])\n",
    "c19= covid19[['Date','Confirmed']]\n",
    "covid_19= c19.groupby('Date').sum()['Confirmed'].reset_index()\n",
    "from pymongo import MongoClient\n",
    "import pymongo\n",
    "client=MongoClient()\n",
    "db=client.dataman\n",
    "alpha = db.alpha\n",
    "confirmed = db.covid_confirmed\n",
    "records_ = covid_19.to_dict(orient = 'records')\n",
    "result = db.confirmed.insert_many(records_ )"
   ]
  }
 ],
 "metadata": {
  "kernelspec": {
   "display_name": "Python 3",
   "language": "python",
   "name": "python3"
  },
  "language_info": {
   "codemirror_mode": {
    "name": "ipython",
    "version": 3
   },
   "file_extension": ".py",
   "mimetype": "text/x-python",
   "name": "python",
   "nbconvert_exporter": "python",
   "pygments_lexer": "ipython3",
   "version": "3.7.5"
  }
 },
 "nbformat": 4,
 "nbformat_minor": 2
}
